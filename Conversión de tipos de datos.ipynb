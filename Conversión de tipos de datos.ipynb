{
 "cells": [
  {
   "cell_type": "markdown",
   "metadata": {},
   "source": [
    "# Cuaderno de Estudio: Tipos de Datos y Conversiones en Python\n",
    "\n",
    "## Teoría\n",
    "\n",
    "### Operaciones con Cadenas\n",
    "En Python, las cadenas son un tipo de datos que nos permite manipular texto. Estas son algunas operaciones comunes:\n",
    "\n",
    "- **Concatenación:** Puedes unir cadenas utilizando el operador `+`."
   ]
  },
  {
   "cell_type": "code",
   "execution_count": 1,
   "metadata": {},
   "outputs": [
    {
     "name": "stdout",
     "output_type": "stream",
     "text": [
      "ab\n"
     ]
    }
   ],
   "source": [
    "print (\"a\"+\"b\")"
   ]
  },
  {
   "cell_type": "markdown",
   "metadata": {},
   "source": [
    "- **Repetición:** Puedes repetir cadenas un número entero de veces utilizando el operador `*`."
   ]
  },
  {
   "cell_type": "code",
   "execution_count": 2,
   "metadata": {},
   "outputs": [
    {
     "name": "stdout",
     "output_type": "stream",
     "text": [
      "aaa\n"
     ]
    }
   ],
   "source": [
    "print(\"a\"*3)"
   ]
  },
  {
   "cell_type": "markdown",
   "metadata": {},
   "source": [
    "### Operaciones con Números\n",
    "Los números en Python incluyen enteros (`int`) y números de punto flotante (`float`). Puedes realizar operaciones aritméticas básicas como:\n",
    "\n",
    "- Suma (`+`)\n",
    "- Resta (`-`)\n",
    "- Multiplicación (`*`)\n",
    "- División (`/`)\n",
    "\n",
    "Ejemplo:"
   ]
  },
  {
   "cell_type": "code",
   "execution_count": 3,
   "metadata": {},
   "outputs": [
    {
     "name": "stdout",
     "output_type": "stream",
     "text": [
      "4\n",
      "0\n",
      "4\n",
      "1.0\n"
     ]
    }
   ],
   "source": [
    "print(2 + 2)  \n",
    "print(2 - 2)  \n",
    "print(2 * 2)  \n",
    "print(2 / 2)  "
   ]
  },
  {
   "cell_type": "markdown",
   "metadata": {},
   "source": [
    "### Conversión de Tipos de Datos\n",
    "A veces, es necesario convertir un valor de un tipo a otro para realizar ciertas operaciones.\n",
    "\n",
    "#### Funciones Principales de Conversión\n",
    "1. **`int()`**: Convierte un valor a entero (si es posible).\n",
    "2. **`float()`**: Convierte un valor a número de punto flotante.\n",
    "3. **`str()`**: Convierte un valor a cadena de texto.\n",
    "\n",
    "Ejemplos:"
   ]
  },
  {
   "cell_type": "code",
   "execution_count": 4,
   "metadata": {},
   "outputs": [
    {
     "name": "stdout",
     "output_type": "stream",
     "text": [
      "25\n"
     ]
    }
   ],
   "source": [
    "# Convertir cadena a entero\n",
    "numero = int('24') #almacenamos el número en esta variable\n",
    "print(numero + 1) "
   ]
  },
  {
   "cell_type": "code",
   "execution_count": 5,
   "metadata": {},
   "outputs": [
    {
     "name": "stdout",
     "output_type": "stream",
     "text": [
      "4.140000000000001\n"
     ]
    }
   ],
   "source": [
    "# Convertir cadena a flotante\n",
    "decimal = float('3.14')\n",
    "print(decimal + 1)  # Salida: 4.14"
   ]
  },
  {
   "cell_type": "code",
   "execution_count": 6,
   "metadata": {},
   "outputs": [
    {
     "name": "stdout",
     "output_type": "stream",
     "text": [
      "100 años\n"
     ]
    }
   ],
   "source": [
    "# Convertir número a cadena\n",
    "cadena = str(100)\n",
    "print(cadena + ' años')  # Salida: '100 años'"
   ]
  },
  {
   "cell_type": "markdown",
   "metadata": {},
   "source": [
    "### Errores Comunes en Conversiones\n",
    "Es importante recordar que algunas conversiones pueden generar errores si el formato no es válido.\n"
   ]
  },
  {
   "cell_type": "code",
   "execution_count": 7,
   "metadata": {},
   "outputs": [
    {
     "ename": "ValueError",
     "evalue": "invalid literal for int() with base 10: 'hola'",
     "output_type": "error",
     "traceback": [
      "\u001b[1;31m---------------------------------------------------------------------------\u001b[0m",
      "\u001b[1;31mValueError\u001b[0m                                Traceback (most recent call last)",
      "Cell \u001b[1;32mIn[7], line 2\u001b[0m\n\u001b[0;32m      1\u001b[0m \u001b[38;5;66;03m# Esto dará error porque la cadena no representa un número válido\u001b[39;00m\n\u001b[1;32m----> 2\u001b[0m numero \u001b[38;5;241m=\u001b[39m \u001b[38;5;28;43mint\u001b[39;49m\u001b[43m(\u001b[49m\u001b[38;5;124;43m'\u001b[39;49m\u001b[38;5;124;43mhola\u001b[39;49m\u001b[38;5;124;43m'\u001b[39;49m\u001b[43m)\u001b[49m  \u001b[38;5;66;03m# ValueError\u001b[39;00m\n",
      "\u001b[1;31mValueError\u001b[0m: invalid literal for int() with base 10: 'hola'"
     ]
    }
   ],
   "source": [
    "# Esto dará error porque la cadena no representa un número válido\n",
    "numero = int('hola')  # ValueError"
   ]
  },
  {
   "cell_type": "markdown",
   "metadata": {},
   "source": [
    "## Ejercicios Prácticos\n",
    "\n",
    "### Ejercicio 1: Concatenación y Repetición\n",
    "1. Crea una cadena que diga \"PythonPythonPython\" utilizando el operador `*`.\n",
    "2. Une las palabras \"Aprender\" y \"Python\" en una sola cadena con un espacio entre ellas."
   ]
  },
  {
   "cell_type": "code",
   "execution_count": 8,
   "metadata": {},
   "outputs": [
    {
     "name": "stdout",
     "output_type": "stream",
     "text": [
      "PythonPythonPython\n",
      "Aprender Python\n"
     ]
    }
   ],
   "source": [
    "print(\"Python\"*3)\n",
    "print(\"Aprender\"+\" \"+\"Python\")"
   ]
  },
  {
   "cell_type": "markdown",
   "metadata": {},
   "source": [
    "### Ejercicio 2: Operaciones Matemáticas\n",
    "1. Calcula la suma, resta, multiplicación y división de los números `15` y `3`.\n",
    "2. Calcula el cuadrado del número `5` usando `**`."
   ]
  },
  {
   "cell_type": "code",
   "execution_count": 10,
   "metadata": {},
   "outputs": [
    {
     "name": "stdout",
     "output_type": "stream",
     "text": [
      "La suma es 18\n",
      "La resta es 12\n",
      "La multiplicación es 45\n",
      "La división es 5.0\n",
      "5 al cuadrado es 25\n"
     ]
    }
   ],
   "source": [
    "a = 15\n",
    "b = 3\n",
    "print(\"La suma es\", a+b) \n",
    "print(\"La resta es\", a-b)\n",
    "print(\"La multiplicación es\", a*b)\n",
    "print(\"La división es\",a/b)\n",
    "print(\"5 al cuadrado es\", 5**2)"
   ]
  },
  {
   "cell_type": "markdown",
   "metadata": {},
   "source": [
    "### Ejercicio 3: Conversiones Simples\n",
    "1. Convierte la cadena `'123'` a un número entero y súmale `77`.\n",
    "2. Convierte el número `3.14159` a cadena y concaténalo con \" es el valor de pi\".\n",
    "3. Convierte el número `50` a flotante y súmale `0.75`.\n"
   ]
  },
  {
   "cell_type": "code",
   "execution_count": 20,
   "metadata": {},
   "outputs": [
    {
     "name": "stdout",
     "output_type": "stream",
     "text": [
      "La respuesta del ejercicio 1 es: 200\n",
      "3.14159 es valor de pi\n",
      "50.75\n"
     ]
    }
   ],
   "source": [
    "número = \"123\"\n",
    "nuevo_numero = int(número)\n",
    "print(\"La respuesta del ejercicio 1 es:\", nuevo_numero + 77)\n",
    "\n",
    "a = 3.14159\n",
    "new_a = str(a)\n",
    "print(new_a +\" \"+ \"es valor de pi\")\n",
    "\n",
    "b = 50\n",
    "new_b = float(b)\n",
    "print(b + 0.75)\n",
    "\n",
    "\n",
    "\n"
   ]
  },
  {
   "cell_type": "markdown",
   "metadata": {},
   "source": [
    "## Ejercicio 4: Manejo de Errores de Conversión\n",
    "Escribe un programa que intente convertir la cadena `'abc'` a un número entero y maneje el error con un mensaje adecuado."
   ]
  },
  {
   "cell_type": "code",
   "execution_count": 21,
   "metadata": {},
   "outputs": [
    {
     "name": "stdout",
     "output_type": "stream",
     "text": [
      "Error: No se puede convertir 'abc' a un número entero.\n"
     ]
    }
   ],
   "source": [
    "numero = \"abc\"\n",
    "try:\n",
    "    int(numero)\n",
    "except:\n",
    "    print(\"Error: No se puede convertir 'abc' a un número entero.\")"
   ]
  }
 ],
 "metadata": {
  "kernelspec": {
   "display_name": "Python 3",
   "language": "python",
   "name": "python3"
  },
  "language_info": {
   "codemirror_mode": {
    "name": "ipython",
    "version": 3
   },
   "file_extension": ".py",
   "mimetype": "text/x-python",
   "name": "python",
   "nbconvert_exporter": "python",
   "pygments_lexer": "ipython3",
   "version": "3.12.4"
  }
 },
 "nbformat": 4,
 "nbformat_minor": 2
}

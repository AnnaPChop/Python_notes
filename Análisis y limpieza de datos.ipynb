{
 "cells": [
  {
   "cell_type": "markdown",
   "metadata": {},
   "source": [
    "# **Análisis y limpieza de datos de denuncias**\n",
    "\n",
    "## **Introducción**\n",
    "Este cuaderno aborda el proceso de limpieza, transformación y análisis de datos utilizando Python y pandas. El objetivo es explorar y preparar un conjunto de datos relacionado con denuncias, estructurándolo para un análisis claro y eficiente.\n",
    "\n",
    "---\n",
    "\n",
    "## **1. Teoría explicativa de las funciones y métodos en pandas**\n",
    "En esta sección, explicaremos en detalle las funciones y métodos utilizados en pandas para la manipulación de datos:\n",
    "\n",
    "### **1.1. Exploración inicial de datos**\n",
    "\n",
    "#### **`head()`**\n",
    "Muestra las primeras filas de un DataFrame. Por defecto, devuelve 5 filas, aunque puedes especificar el número deseado"
   ]
  },
  {
   "cell_type": "code",
   "execution_count": 1,
   "metadata": {},
   "outputs": [
    {
     "ename": "NameError",
     "evalue": "name 'data' is not defined",
     "output_type": "error",
     "traceback": [
      "\u001b[1;31m---------------------------------------------------------------------------\u001b[0m",
      "\u001b[1;31mNameError\u001b[0m                                 Traceback (most recent call last)",
      "Cell \u001b[1;32mIn[1], line 7\u001b[0m\n\u001b[0;32m      3\u001b[0m \u001b[38;5;28;01mimport\u001b[39;00m \u001b[38;5;21;01mpandas\u001b[39;00m \u001b[38;5;28;01mas\u001b[39;00m \u001b[38;5;21;01mpd\u001b[39;00m \n\u001b[0;32m      5\u001b[0m \u001b[38;5;66;03m# Mostrar las primeras 5 filas del DataFrame\u001b[39;00m\n\u001b[1;32m----> 7\u001b[0m \u001b[43mdata\u001b[49m\u001b[38;5;241m.\u001b[39mhead()\n\u001b[0;32m      9\u001b[0m \u001b[38;5;66;03m# Mostrar las primeras 10 filas\u001b[39;00m\n\u001b[0;32m     11\u001b[0m data\u001b[38;5;241m.\u001b[39mhead(\u001b[38;5;241m10\u001b[39m)\n",
      "\u001b[1;31mNameError\u001b[0m: name 'data' is not defined"
     ]
    }
   ],
   "source": [
    "# Es importante llamar a la libreria\n",
    "\n",
    "import pandas as pd \n",
    "\n",
    "# Mostrar las primeras 5 filas del DataFrame\n",
    "\n",
    "data.head()\n",
    "\n",
    "# Mostrar las primeras 10 filas\n",
    "\n",
    "data.head(10)"
   ]
  },
  {
   "cell_type": "markdown",
   "metadata": {},
   "source": [
    "#### **`info(buf=None)`**\n",
    "Proporciona un resumen del DataFrame, incluyendo:\n",
    "- Número de entradas (filas).\n",
    "- Columnas y su tipo de dato.\n",
    "- Valores no nulos.\n",
    "- Uso de memoria.\n",
    "\n",
    "El parámetro `buf=None` indica que la salida se imprime en la consola. Si quisieras guardarlo en un archivo, podrías usar un buffer como un archivo:"
   ]
  },
  {
   "cell_type": "code",
   "execution_count": null,
   "metadata": {},
   "outputs": [],
   "source": [
    "# Resumen del DataFrame\n",
    "data.info()"
   ]
  },
  {
   "cell_type": "markdown",
   "metadata": {},
   "source": [
    "#### **`isnull()` y `sum()`**\n",
    "- `isnull()` devuelve un DataFrame booleano indicando dónde hay valores nulos (`NaN`).\n",
    "- `sum()` suma los valores nulos por columna."
   ]
  },
  {
   "cell_type": "code",
   "execution_count": null,
   "metadata": {},
   "outputs": [],
   "source": [
    "# Identificar valores nulos\n",
    "data.isnull()\n",
    "\n",
    "# Contar valores nulos por columna\n",
    "data.isnull().sum()"
   ]
  },
  {
   "cell_type": "markdown",
   "metadata": {},
   "source": [
    "#### **`isnull()` y `sum()`**\n",
    "- `isnull()` devuelve un DataFrame booleano indicando dónde hay valores nulos (`NaN`).\n",
    "- `sum()` suma los valores nulos por columna.\n"
   ]
  },
  {
   "cell_type": "code",
   "execution_count": null,
   "metadata": {},
   "outputs": [],
   "source": []
  },
  {
   "cell_type": "code",
   "execution_count": null,
   "metadata": {},
   "outputs": [],
   "source": []
  }
 ],
 "metadata": {
  "kernelspec": {
   "display_name": "Python 3",
   "language": "python",
   "name": "python3"
  },
  "language_info": {
   "codemirror_mode": {
    "name": "ipython",
    "version": 3
   },
   "file_extension": ".py",
   "mimetype": "text/x-python",
   "name": "python",
   "nbconvert_exporter": "python",
   "pygments_lexer": "ipython3",
   "version": "3.12.4"
  }
 },
 "nbformat": 4,
 "nbformat_minor": 2
}

{
 "cells": [
  {
   "cell_type": "markdown",
   "metadata": {},
   "source": [
    "# **Análisis y limpieza de datos de denuncias**\n",
    "\n",
    "## **Introducción**\n",
    "Este cuaderno aborda el proceso de limpieza, transformación y análisis de datos utilizando Python y pandas. El objetivo es explorar y preparar un conjunto de datos relacionado con denuncias, estructurándolo para un análisis claro y eficiente.\n",
    "\n",
    "---\n",
    "\n",
    "## **1. Teoría explicativa de las funciones y métodos en pandas**\n",
    "En esta sección, explicaremos en detalle las funciones y métodos utilizados en pandas para la manipulación de datos:\n",
    "\n",
    "### **1.1. Exploración inicial de datos**\n",
    "\n",
    "#### **`head()`**\n",
    "Muestra las primeras filas de un DataFrame. Por defecto, devuelve 5 filas, aunque puedes especificar el número deseado"
   ]
  },
  {
   "cell_type": "code",
   "execution_count": 1,
   "metadata": {},
   "outputs": [
    {
     "ename": "NameError",
     "evalue": "name 'data' is not defined",
     "output_type": "error",
     "traceback": [
      "\u001b[1;31m---------------------------------------------------------------------------\u001b[0m",
      "\u001b[1;31mNameError\u001b[0m                                 Traceback (most recent call last)",
      "Cell \u001b[1;32mIn[1], line 7\u001b[0m\n\u001b[0;32m      3\u001b[0m \u001b[38;5;28;01mimport\u001b[39;00m \u001b[38;5;21;01mpandas\u001b[39;00m \u001b[38;5;28;01mas\u001b[39;00m \u001b[38;5;21;01mpd\u001b[39;00m \n\u001b[0;32m      5\u001b[0m \u001b[38;5;66;03m# Mostrar las primeras 5 filas del DataFrame\u001b[39;00m\n\u001b[1;32m----> 7\u001b[0m \u001b[43mdata\u001b[49m\u001b[38;5;241m.\u001b[39mhead()\n\u001b[0;32m      9\u001b[0m \u001b[38;5;66;03m# Mostrar las primeras 10 filas\u001b[39;00m\n\u001b[0;32m     11\u001b[0m data\u001b[38;5;241m.\u001b[39mhead(\u001b[38;5;241m10\u001b[39m)\n",
      "\u001b[1;31mNameError\u001b[0m: name 'data' is not defined"
     ]
    }
   ],
   "source": [
    "# Es importante llamar a la libreria\n",
    "\n",
    "import pandas as pd \n",
    "\n",
    "# Mostrar las primeras 5 filas del DataFrame\n",
    "\n",
    "data.head()\n",
    "\n",
    "# Mostrar las primeras 10 filas\n",
    "\n",
    "data.head(10)"
   ]
  },
  {
   "cell_type": "markdown",
   "metadata": {},
   "source": [
    "#### **`info(buf=None)`**\n",
    "Proporciona un resumen del DataFrame, incluyendo:\n",
    "- Número de entradas (filas).\n",
    "- Columnas y su tipo de dato.\n",
    "- Valores no nulos.\n",
    "- Uso de memoria.\n",
    "\n",
    "El parámetro `buf=None` indica que la salida se imprime en la consola. Si quisieras guardarlo en un archivo, podrías usar un buffer como un archivo:"
   ]
  },
  {
   "cell_type": "code",
   "execution_count": null,
   "metadata": {},
   "outputs": [],
   "source": [
    "# Resumen del DataFrame\n",
    "data.info()"
   ]
  },
  {
   "cell_type": "markdown",
   "metadata": {},
   "source": [
    "#### **`isnull()` y `sum()`**\n",
    "- `isnull()` devuelve un DataFrame booleano indicando dónde hay valores nulos (`NaN`).\n",
    "- `sum()` suma los valores nulos por columna."
   ]
  },
  {
   "cell_type": "code",
   "execution_count": null,
   "metadata": {},
   "outputs": [],
   "source": [
    "# Identificar valores nulos\n",
    "data.isnull()\n",
    "\n",
    "# Contar valores nulos por columna\n",
    "data.isnull().sum()"
   ]
  },
  {
   "cell_type": "markdown",
   "metadata": {},
   "source": [
    "#### **`isnull()` y `sum()`**\n",
    "- `isnull()` devuelve un DataFrame booleano indicando dónde hay valores nulos (`NaN`).\n",
    "- `sum()` suma los valores nulos por columna.\n"
   ]
  },
  {
   "cell_type": "code",
   "execution_count": null,
   "metadata": {},
   "outputs": [],
   "source": [
    "# Identificar valores nulos\n",
    "data.isnull()\n",
    "\n",
    "# Contar valores nulos por columna\n",
    "data.isnull().sum()"
   ]
  },
  {
   "cell_type": "markdown",
   "metadata": {},
   "source": [
    "#### **`describe(include=\"all\")`**\n",
    "Proporciona estadísticas descriptivas de las columnas:\n",
    "- Para columnas numéricas: media, desviación estándar, valores mínimo/máximo, etc.\n",
    "- Para columnas categóricas: conteo, valores únicos, frecuencia del valor más común.\n",
    "\n",
    "El parámetro `include=\"all\"` asegura que se incluyan tanto columnas numéricas como categóricas:"
   ]
  },
  {
   "cell_type": "code",
   "execution_count": null,
   "metadata": {},
   "outputs": [],
   "source": [
    "# Estadísticas descriptivas\n",
    "data.describe(include=\"all\")"
   ]
  },
  {
   "cell_type": "markdown",
   "metadata": {},
   "source": [
    "### **1.2. Manipulación de columnas y filas**\n",
    "\n",
    "#### **`df.columns`**\n",
    "Devuelve los nombres de las columnas del DataFrame. Es útil para inspeccionar y renombrar columnas."
   ]
  },
  {
   "cell_type": "code",
   "execution_count": null,
   "metadata": {},
   "outputs": [],
   "source": [
    "# Ver los nombres de las columnas\n",
    "data.columns"
   ]
  },
  {
   "cell_type": "markdown",
   "metadata": {},
   "source": [
    "#### **`iloc`**\n",
    "Permite seleccionar filas y columnas por posición numérica (índice). Funciona como:"
   ]
  },
  {
   "cell_type": "code",
   "execution_count": null,
   "metadata": {},
   "outputs": [],
   "source": [
    "# Seleccionar la primera fila\n",
    "data.iloc[0]\n",
    "\n",
    "# Seleccionar las primeras tres filas y dos primeras columnas\n",
    "data.iloc[:3, :2]"
   ]
  },
  {
   "cell_type": "markdown",
   "metadata": {},
   "source": [
    "#### **`reset_index(drop=True)`**\n",
    "Reinicia el índice del DataFrame. Si `drop=True`, descarta el índice anterior y no lo agrega como una nueva columna."
   ]
  },
  {
   "cell_type": "code",
   "execution_count": null,
   "metadata": {},
   "outputs": [],
   "source": [
    "# Reiniciar el índice\n",
    "data.reset_index(drop=True)"
   ]
  },
  {
   "cell_type": "markdown",
   "metadata": {},
   "source": [
    "#### **`drop()`**\n",
    "Elimina filas o columnas del DataFrame. El parámetro `axis` especifica:\n",
    "- `axis=0` (predeterminado): elimina filas.\n",
    "- `axis=1`: elimina columnas."
   ]
  },
  {
   "cell_type": "code",
   "execution_count": null,
   "metadata": {},
   "outputs": [],
   "source": [
    "# Eliminar una columna por nombre\n",
    "data.drop(\"Columna\", axis=1)\n",
    "\n",
    "# Eliminar una fila por índice\n",
    "data.drop(0, axis=0)"
   ]
  },
  {
   "cell_type": "markdown",
   "metadata": {},
   "source": [
    "### **1.3. Operaciones con strings**\n",
    "\n",
    "#### **`strip()`**\n",
    "Elimina espacios en blanco al inicio y al final de los valores en una columna."
   ]
  },
  {
   "cell_type": "code",
   "execution_count": null,
   "metadata": {},
   "outputs": [],
   "source": [
    "# Eliminar espacios en blanco en la columna \"Año\"\n",
    "data[\"Año\"] = data[\"Año\"].str.strip()"
   ]
  },
  {
   "cell_type": "markdown",
   "metadata": {},
   "source": [
    "#### **`replace()`**\n",
    "Reemplaza valores específicos en una columna. Puede utilizarse con expresiones regulares (`regex=True`)."
   ]
  },
  {
   "cell_type": "code",
   "execution_count": null,
   "metadata": {},
   "outputs": [],
   "source": [
    "# Reemplazar '.00' al final de los valores con vacío\n",
    "data[\"Año\"] = data[\"Año\"].str.replace(r'\\.00$', '', regex=True)"
   ]
  },
  {
   "cell_type": "markdown",
   "metadata": {},
   "source": [
    "## **2. Carga de datos**\n",
    "Primero, importamos pandas y cargamos el archivo CSV."
   ]
  },
  {
   "cell_type": "code",
   "execution_count": null,
   "metadata": {},
   "outputs": [],
   "source": [
    "import pandas as pd \n",
    "\n",
    "# Ruta del archivo\n",
    "file_path = r\"C:\\Users\\apicn\\Proyectos\\Python_notes\\Proyecto analisis denuncias\\ConocimientoMediosDenuncia.csv\"\n",
    "\n",
    "# Leer el archivo CSV con la codificación adecuada\n",
    "data = pd.read_csv(file_path, encoding='latin-1')\n",
    "\n",
    "# Mostrar información inicial del DataFrame\n",
    "summary = {\n",
    "    \"Head\": data.head(),  # Primeras filas\n",
    "    \"Info\": data.info(buf=None),  # Información del DataFrame\n",
    "    \"Null_sum\": data.isnull().sum(),  # Valores nulos por columna\n",
    "    \"Describe\": data.describe(include=\"all\")  # Estadísticas descriptivas\n",
    "}\n",
    "\n",
    "print(summary)"
   ]
  },
  {
   "cell_type": "markdown",
   "metadata": {},
   "source": [
    "## **3. Limpieza de datos**\n",
    "\n",
    "### Cambiar la fila 3 como encabezado\n",
    "En algunos casos, los encabezados reales están en una fila específica. Aquí configuramos la fila 3 como encabezado del DataFrame:"
   ]
  },
  {
   "cell_type": "code",
   "execution_count": null,
   "metadata": {},
   "outputs": [],
   "source": [
    "# Usar la fila 3 como encabezado\n",
    "data.columns = data.iloc[3]\n",
    "\n",
    "# Eliminar las filas previas al encabezado y reiniciar el índice\n",
    "data = data[4:].reset_index(drop=True)\n",
    "\n",
    "# Verificar el resultado\n",
    "print(data.head(5))"
   ]
  },
  {
   "cell_type": "markdown",
   "metadata": {},
   "source": [
    "### Eliminar columnas innecesarias\n",
    "En este caso, eliminamos la primera columna porque está vacía o no es relevante."
   ]
  },
  {
   "cell_type": "code",
   "execution_count": null,
   "metadata": {},
   "outputs": [],
   "source": [
    "# Eliminar la primera columna por su posición\n",
    "data = data.drop(data.columns[0], axis=1)\n",
    "\n",
    "# Mostrar el DataFrame actualizado\n",
    "print(data.columns)"
   ]
  },
  {
   "cell_type": "markdown",
   "metadata": {},
   "source": [
    "## **4. Formateo y transformación de datos**\n",
    "\n",
    "### Eliminar espacios y ajustar formatos\n",
    "Ajustamos los datos de la columna \"Año\" para eliminar espacios en blanco y caracteres innecesarios, como `.00` al final.\n"
   ]
  },
  {
   "cell_type": "code",
   "execution_count": null,
   "metadata": {},
   "outputs": [],
   "source": [
    "# Eliminar espacios en blanco\n",
    "data[\"Año\"] = data[\"Año\"].str.strip()  \n",
    "\n",
    "# Reemplazar '.00' al final de los strings con vacío\n",
    "data[\"Año\"] = data[\"Año\"].str.replace(r'\\.00$', '', regex=True)\n",
    "\n",
    "# Verificar el resultado\n",
    "print(data.head(5))"
   ]
  },
  {
   "cell_type": "markdown",
   "metadata": {},
   "source": [
    "### Crear nuevas columnas\n",
    "Combinamos las columnas \"Año\" y \"Trimestre\" en una nueva columna llamada \"Año-Trimestre\", luego eliminamos las columnas originales.\n"
   ]
  },
  {
   "cell_type": "code",
   "execution_count": null,
   "metadata": {},
   "outputs": [],
   "source": [
    "# Crear una nueva columna combinada\n",
    "data['Año-Trimestre'] = data['Año'] + ' ' + data['Trimestre']\n",
    "\n",
    "# Eliminar las columnas \"Año\" y \"Trimestre\"\n",
    "data = data.drop([\"Año\", \"Trimestre\"], axis=1)\n",
    "\n",
    "# Verificar el DataFrame final\n",
    "print(data.columns)"
   ]
  },
  {
   "cell_type": "markdown",
   "metadata": {},
   "source": [
    "## **5. Conclusión**\n",
    "Este cuaderno cubre cómo realizar:\n",
    "1. Exploración inicial de los datos.\n",
    "2. Limpieza para garantizar que los datos sean consistentes.\n",
    "3. Transformación para preparar los datos para análisis más avanzados.\n",
    "\n",
    "Estos pasos aseguran que el conjunto de datos esté listo para visualizaciones y análisis posteriores.\n"
   ]
  }
 ],
 "metadata": {
  "kernelspec": {
   "display_name": "Python 3",
   "language": "python",
   "name": "python3"
  },
  "language_info": {
   "codemirror_mode": {
    "name": "ipython",
    "version": 3
   },
   "file_extension": ".py",
   "mimetype": "text/x-python",
   "name": "python",
   "nbconvert_exporter": "python",
   "pygments_lexer": "ipython3",
   "version": "3.12.4"
  }
 },
 "nbformat": 4,
 "nbformat_minor": 2
}

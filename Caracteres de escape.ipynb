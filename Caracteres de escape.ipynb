{
 "cells": [
  {
   "cell_type": "markdown",
   "metadata": {},
   "source": [
    "# Caracteres de Escape en Python\n",
    "\n",
    "Cuando programamos en Python, a veces necesitamos incluir caracteres especiales en nuestras cadenas de texto, como comillas simples y dobles. Para esto, Python nos ofrece los caracteres de escape, los cuales se designan con una barra invertida seguida del carácter especial que queremos incluir en nuestra cadena.\n",
    "\n",
    "## Caracteres de Escape Comunes\n",
    "\n",
    "- Comillas simples y dobles\n",
    "- Usamos \\' para incluir comillas simples en una cadena entre comillas simples.\n",
    "- Usamos \\\" para incluir comillas dobles en una cadena entre comillas dobles.\n",
    "\n",
    "## Nueva línea y tabulación:\n",
    "\n",
    "- \\n representa un salto de línea, permitiendo que el texto continúe en la siguiente línea.\n",
    "\n",
    "- \\t representa una tabulación, añadiendo un espacio de tabulación en el texto."
   ]
  },
  {
   "cell_type": "markdown",
   "metadata": {},
   "source": [
    "### Ejercicio 1: Usa \\n para añadir un salto de línea en una cadena."
   ]
  },
  {
   "cell_type": "code",
   "execution_count": 1,
   "metadata": {},
   "outputs": [
    {
     "name": "stdout",
     "output_type": "stream",
     "text": [
      "La primera línea\n",
      "La segunda línea\n"
     ]
    }
   ],
   "source": [
    "print(\"La primera línea\\nLa segunda línea\")"
   ]
  },
  {
   "cell_type": "markdown",
   "metadata": {},
   "source": [
    "### Ejercicio 2: Usa \\t para añadir una tabulación en una cadena."
   ]
  },
  {
   "cell_type": "code",
   "execution_count": 3,
   "metadata": {},
   "outputs": [
    {
     "name": "stdout",
     "output_type": "stream",
     "text": [
      "Nombre:\t\tAnna\n",
      "Edad:\t\t35\n"
     ]
    }
   ],
   "source": [
    "print(\"Nombre:\\t\\tAnna\\nEdad:\\t\\t35\")"
   ]
  }
 ],
 "metadata": {
  "kernelspec": {
   "display_name": "Python 3",
   "language": "python",
   "name": "python3"
  },
  "language_info": {
   "codemirror_mode": {
    "name": "ipython",
    "version": 3
   },
   "file_extension": ".py",
   "mimetype": "text/x-python",
   "name": "python",
   "nbconvert_exporter": "python",
   "pygments_lexer": "ipython3",
   "version": "3.12.4"
  }
 },
 "nbformat": 4,
 "nbformat_minor": 2
}

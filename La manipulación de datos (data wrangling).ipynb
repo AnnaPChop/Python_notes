{
 "cells": [
  {
   "cell_type": "markdown",
   "metadata": {},
   "source": [
    "# La manipulación de datos (data wrangling):\n",
    "    También conocida como \"data munging\", es el proceso de preparación de los datos para su uso posterior, como el análisis. Este proceso normalmente implica eliminar defectos en los datos, agregar datos y visualizarlos. Básicamente, es todo lo necesario para preparar los datos para otros usos potenciales."
   ]
  },
  {
   "cell_type": "markdown",
   "metadata": {},
   "source": [
    "# Análisis exploratorio de datos:\n",
    "    El análisis exploratorio de datos consiste en realizar investigaciones iniciales sobre los datos para descubrir patrones, entender tendencias o comprobar suposiciones. Normalmente, esto consiste en explorar y resumir los datos tanto visualmente como de forma agregada para extraer conclusiones."
   ]
  },
  {
   "cell_type": "markdown",
   "metadata": {},
   "source": [
    "## Usando el parámetro sep=\n",
    "\n",
    "Normalmente los archivos .csv están separados por comas. Sin embargo, a veces existen otro tipo de separadores en algunos archivos. Supongamos que un archivo tiene comas, pero el verdadero delimitador parece ser el carácter |. Necesitamos tener esto en cuenta al leer el archivo usando el parámetro sep= en read_csv() para indicar el delimitador correcto:"
   ]
  },
  {
   "cell_type": "code",
   "execution_count": null,
   "metadata": {},
   "outputs": [],
   "source": [
    "import panda as pd \n",
    "data =  pd.read_csv( \"/dataset.csv\", sep = \"|\" ))\n"
   ]
  },
  {
   "cell_type": "markdown",
   "metadata": {},
   "source": []
  }
 ],
 "metadata": {
  "kernelspec": {
   "display_name": "Python 3",
   "language": "python",
   "name": "python3"
  },
  "language_info": {
   "name": "python",
   "version": "3.12.4"
  }
 },
 "nbformat": 4,
 "nbformat_minor": 2
}
